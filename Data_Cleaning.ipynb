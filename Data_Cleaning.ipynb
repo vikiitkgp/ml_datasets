{
 "cells": [
  {
   "cell_type": "code",
   "execution_count": 112,
   "metadata": {},
   "outputs": [],
   "source": [
    "import numpy as np\n",
    "import pandas as pd\n",
    "import os\n",
    "import glob"
   ]
  },
  {
   "cell_type": "markdown",
   "metadata": {},
   "source": [
    "## Reading the Data"
   ]
  },
  {
   "cell_type": "code",
   "execution_count": 113,
   "metadata": {},
   "outputs": [],
   "source": [
    "local = 'C:\\\\Users\\\\sharvik\\\\Python_Notebook\\\\WQ\\\\data-science-challenge\\\\data'"
   ]
  },
  {
   "cell_type": "code",
   "execution_count": 84,
   "metadata": {},
   "outputs": [
    {
     "name": "stdout",
     "output_type": "stream",
     "text": [
      "Wall time: 1min 5s\n"
     ]
    }
   ],
   "source": [
    "%%time\n",
    "df = pd.DataFrame()\n",
    "filenames=[]\n",
    "for i in range(2008, 2011):\n",
    "    for j in range(1, 13):\n",
    "        filenames.append(glob.glob(os.path.join(local,str(i),str(j), '*')))\n",
    "\n",
    "files = [y for x in filenames for y in x]\n",
    "for file in files:\n",
    "    temp = pd.read_csv(file, infer_datetime_format = True, parse_dates={'datetime':[0,1]})\n",
    "    df = df.append(temp)"
   ]
  },
  {
   "cell_type": "code",
   "execution_count": 65,
   "metadata": {},
   "outputs": [
    {
     "data": {
      "text/plain": [
       "(1527663, 8)"
      ]
     },
     "execution_count": 65,
     "metadata": {},
     "output_type": "execute_result"
    }
   ],
   "source": [
    "df.shape"
   ]
  },
  {
   "cell_type": "code",
   "execution_count": 66,
   "metadata": {},
   "outputs": [
    {
     "data": {
      "text/html": [
       "<div>\n",
       "<style scoped>\n",
       "    .dataframe tbody tr th:only-of-type {\n",
       "        vertical-align: middle;\n",
       "    }\n",
       "\n",
       "    .dataframe tbody tr th {\n",
       "        vertical-align: top;\n",
       "    }\n",
       "\n",
       "    .dataframe thead th {\n",
       "        text-align: right;\n",
       "    }\n",
       "</style>\n",
       "<table border=\"1\" class=\"dataframe\">\n",
       "  <thead>\n",
       "    <tr style=\"text-align: right;\">\n",
       "      <th></th>\n",
       "      <th>datetime</th>\n",
       "      <th>Global_active_power</th>\n",
       "      <th>Global_reactive_power</th>\n",
       "      <th>Voltage</th>\n",
       "      <th>Global_intensity</th>\n",
       "      <th>Sub_metering_1</th>\n",
       "      <th>Sub_metering_2</th>\n",
       "      <th>Sub_metering_3</th>\n",
       "    </tr>\n",
       "  </thead>\n",
       "  <tbody>\n",
       "    <tr>\n",
       "      <th>0</th>\n",
       "      <td>2008-01-01 00:00:00</td>\n",
       "      <td>1.62</td>\n",
       "      <td>0.07</td>\n",
       "      <td>241.25</td>\n",
       "      <td>6.6</td>\n",
       "      <td>0</td>\n",
       "      <td>0</td>\n",
       "      <td>18.0</td>\n",
       "    </tr>\n",
       "    <tr>\n",
       "      <th>1</th>\n",
       "      <td>2008-01-01 00:01:00</td>\n",
       "      <td>1.626</td>\n",
       "      <td>0.072</td>\n",
       "      <td>241.74</td>\n",
       "      <td>6.6</td>\n",
       "      <td>0</td>\n",
       "      <td>0</td>\n",
       "      <td>18.0</td>\n",
       "    </tr>\n",
       "    <tr>\n",
       "      <th>2</th>\n",
       "      <td>2008-01-01 00:02:00</td>\n",
       "      <td>1.622</td>\n",
       "      <td>0.072</td>\n",
       "      <td>241.52</td>\n",
       "      <td>6.6</td>\n",
       "      <td>0</td>\n",
       "      <td>0</td>\n",
       "      <td>18.0</td>\n",
       "    </tr>\n",
       "    <tr>\n",
       "      <th>3</th>\n",
       "      <td>2008-01-01 00:03:00</td>\n",
       "      <td>1.612</td>\n",
       "      <td>0.07</td>\n",
       "      <td>240.82</td>\n",
       "      <td>6.6</td>\n",
       "      <td>0</td>\n",
       "      <td>0</td>\n",
       "      <td>18.0</td>\n",
       "    </tr>\n",
       "    <tr>\n",
       "      <th>4</th>\n",
       "      <td>2008-01-01 00:04:00</td>\n",
       "      <td>1.612</td>\n",
       "      <td>0.07</td>\n",
       "      <td>240.8</td>\n",
       "      <td>6.6</td>\n",
       "      <td>0</td>\n",
       "      <td>0</td>\n",
       "      <td>18.0</td>\n",
       "    </tr>\n",
       "  </tbody>\n",
       "</table>\n",
       "</div>"
      ],
      "text/plain": [
       "             datetime Global_active_power Global_reactive_power Voltage  \\\n",
       "0 2008-01-01 00:00:00                1.62                  0.07  241.25   \n",
       "1 2008-01-01 00:01:00               1.626                 0.072  241.74   \n",
       "2 2008-01-01 00:02:00               1.622                 0.072  241.52   \n",
       "3 2008-01-01 00:03:00               1.612                  0.07  240.82   \n",
       "4 2008-01-01 00:04:00               1.612                  0.07   240.8   \n",
       "\n",
       "  Global_intensity Sub_metering_1 Sub_metering_2  Sub_metering_3  \n",
       "0              6.6              0              0            18.0  \n",
       "1              6.6              0              0            18.0  \n",
       "2              6.6              0              0            18.0  \n",
       "3              6.6              0              0            18.0  \n",
       "4              6.6              0              0            18.0  "
      ]
     },
     "execution_count": 66,
     "metadata": {},
     "output_type": "execute_result"
    }
   ],
   "source": [
    "df.head()"
   ]
  },
  {
   "cell_type": "code",
   "execution_count": 67,
   "metadata": {},
   "outputs": [
    {
     "data": {
      "text/plain": [
       "datetime                 datetime64[ns]\n",
       "Global_active_power              object\n",
       "Global_reactive_power            object\n",
       "Voltage                          object\n",
       "Global_intensity                 object\n",
       "Sub_metering_1                   object\n",
       "Sub_metering_2                   object\n",
       "Sub_metering_3                  float64\n",
       "dtype: object"
      ]
     },
     "execution_count": 67,
     "metadata": {},
     "output_type": "execute_result"
    }
   ],
   "source": [
    "df.dtypes"
   ]
  },
  {
   "cell_type": "markdown",
   "metadata": {},
   "source": [
    "#### It can be seen that all the data should be in float but are being read as object > Indicates of some inconsistent format in the data"
   ]
  },
  {
   "cell_type": "code",
   "execution_count": 70,
   "metadata": {},
   "outputs": [
    {
     "data": {
      "text/html": [
       "<div>\n",
       "<style scoped>\n",
       "    .dataframe tbody tr th:only-of-type {\n",
       "        vertical-align: middle;\n",
       "    }\n",
       "\n",
       "    .dataframe tbody tr th {\n",
       "        vertical-align: top;\n",
       "    }\n",
       "\n",
       "    .dataframe thead th {\n",
       "        text-align: right;\n",
       "    }\n",
       "</style>\n",
       "<table border=\"1\" class=\"dataframe\">\n",
       "  <thead>\n",
       "    <tr style=\"text-align: right;\">\n",
       "      <th></th>\n",
       "      <th>datetime</th>\n",
       "      <th>Global_active_power</th>\n",
       "      <th>Global_reactive_power</th>\n",
       "      <th>Voltage</th>\n",
       "      <th>Global_intensity</th>\n",
       "      <th>Sub_metering_1</th>\n",
       "      <th>Sub_metering_2</th>\n",
       "      <th>Sub_metering_3</th>\n",
       "    </tr>\n",
       "  </thead>\n",
       "  <tbody>\n",
       "  </tbody>\n",
       "</table>\n",
       "</div>"
      ],
      "text/plain": [
       "Empty DataFrame\n",
       "Columns: [datetime, Global_active_power, Global_reactive_power, Voltage, Global_intensity, Sub_metering_1, Sub_metering_2, Sub_metering_3]\n",
       "Index: []"
      ]
     },
     "execution_count": 70,
     "metadata": {},
     "output_type": "execute_result"
    }
   ],
   "source": [
    "df.loc[df.Global_active_power.isnull()].head()"
   ]
  },
  {
   "cell_type": "markdown",
   "metadata": {},
   "source": [
    "#### Removing datetime from column and making it index"
   ]
  },
  {
   "cell_type": "code",
   "execution_count": 96,
   "metadata": {},
   "outputs": [],
   "source": [
    "df = df.set_index('datetime')"
   ]
  },
  {
   "cell_type": "code",
   "execution_count": 104,
   "metadata": {},
   "outputs": [
    {
     "data": {
      "text/plain": [
       "Global_active_power      0.00000\n",
       "Global_reactive_power    0.00000\n",
       "Voltage                  0.00000\n",
       "Global_intensity         0.00000\n",
       "Sub_metering_1           0.00000\n",
       "Sub_metering_2           0.00000\n",
       "Sub_metering_3           0.01443\n",
       "dtype: float64"
      ]
     },
     "execution_count": 104,
     "metadata": {},
     "output_type": "execute_result"
    }
   ],
   "source": [
    "## Checking for NaN\n",
    "df.isnull().sum()/df.isnull().count()"
   ]
  },
  {
   "cell_type": "code",
   "execution_count": 106,
   "metadata": {},
   "outputs": [
    {
     "data": {
      "text/plain": [
       "?                      22044\n",
       "0.252                   7422\n",
       "0.254                   6875\n",
       "0.25                    6837\n",
       "0.324                   6782\n",
       "0.326                   6764\n",
       "0.322                   6748\n",
       "0.32                    6536\n",
       "0.32799999999999996     6531\n",
       "0.24600000000000002     6379\n",
       "0.256                   6337\n",
       "0.23399999999999999     6323\n",
       "0.33                    6274\n",
       "0.244                   6269\n",
       "0.248                   6218\n",
       "0.33399999999999996     6168\n",
       "0.316                   6167\n",
       "0.23600000000000002     6150\n",
       "0.332                   6123\n",
       "0.318                   6068\n",
       "0.23199999999999998     6025\n",
       "0.312                   6009\n",
       "0.33799999999999997     5948\n",
       "0.336                   5944\n",
       "0.314                   5822\n",
       "0.258                   5816\n",
       "0.34                    5743\n",
       "0.31                    5722\n",
       "0.342                   5691\n",
       "0.242                   5689\n",
       "                       ...  \n",
       "6.436                      1\n",
       "8.53                       1\n",
       "5.966                      1\n",
       "6.370                      1\n",
       "7.1                        1\n",
       "7.072                      1\n",
       "6.856                      1\n",
       "6.194                      1\n",
       "5.138                      1\n",
       "6.614                      1\n",
       "7.3660000000000005         1\n",
       "6.974                      1\n",
       "6.620                      1\n",
       "7.168                      1\n",
       "5.504                      1\n",
       "6.818                      1\n",
       "5.194                      1\n",
       "6.024                      1\n",
       "4.528                      1\n",
       "8.916                      1\n",
       "5.158                      1\n",
       "7.622                      1\n",
       "5.400                      1\n",
       "5.094                      1\n",
       "6.070                      1\n",
       "7.448                      1\n",
       "5.766                      1\n",
       "6.522                      1\n",
       "5.844                      1\n",
       "5.726                      1\n",
       "Name: Global_active_power, Length: 6993, dtype: int64"
      ]
     },
     "execution_count": 106,
     "metadata": {},
     "output_type": "execute_result"
    }
   ],
   "source": [
    "df['Global_active_power'].value_counts()"
   ]
  },
  {
   "cell_type": "code",
   "execution_count": 110,
   "metadata": {},
   "outputs": [
    {
     "data": {
      "text/plain": [
       "-1                     22044\n",
       "0.252                   7422\n",
       "0.254                   6875\n",
       "0.25                    6837\n",
       "0.324                   6782\n",
       "0.326                   6764\n",
       "0.322                   6748\n",
       "0.32                    6536\n",
       "0.32799999999999996     6531\n",
       "0.24600000000000002     6379\n",
       "0.256                   6337\n",
       "0.23399999999999999     6323\n",
       "0.33                    6274\n",
       "0.244                   6269\n",
       "0.248                   6218\n",
       "0.33399999999999996     6168\n",
       "0.316                   6167\n",
       "0.23600000000000002     6150\n",
       "0.332                   6123\n",
       "0.318                   6068\n",
       "0.23199999999999998     6025\n",
       "0.312                   6009\n",
       "0.33799999999999997     5948\n",
       "0.336                   5944\n",
       "0.314                   5822\n",
       "0.258                   5816\n",
       "0.34                    5743\n",
       "0.31                    5722\n",
       "0.342                   5691\n",
       "0.242                   5689\n",
       "                       ...  \n",
       "6.690                      1\n",
       "6.994                      1\n",
       "7.608                      1\n",
       "7.906000000000001          1\n",
       "8.107999999999999          1\n",
       "9.656                      1\n",
       "8.320                      1\n",
       "4.456                      1\n",
       "7.196                      1\n",
       "6.894                      1\n",
       "7.337999999999999          1\n",
       "6.846                      1\n",
       "4.842                      1\n",
       "7.832000000000001          1\n",
       "5.276                      1\n",
       "8.76                       1\n",
       "0.104                      1\n",
       "7.77                       1\n",
       "4.462                      1\n",
       "8.084                      1\n",
       "9.084                      1\n",
       "4.990                      1\n",
       "4.586                      1\n",
       "7.008                      1\n",
       "8.65                       1\n",
       "4.192                      1\n",
       "8.716                      1\n",
       "8.814                      1\n",
       "4.764                      1\n",
       "7.86                       1\n",
       "Name: Global_active_power, Length: 6993, dtype: int64"
      ]
     },
     "execution_count": 110,
     "metadata": {},
     "output_type": "execute_result"
    }
   ],
   "source": [
    "## Converting all the \"?\" with NaN as of now\n",
    "\n",
    "df1 = df.replace('?',np.nan)\n",
    "df1['Global_active_power'].fillna(-1).value_counts()"
   ]
  },
  {
   "cell_type": "code",
   "execution_count": 111,
   "metadata": {},
   "outputs": [],
   "source": [
    "df1.to_csv('Household_Dataset_2008_2010.csv')"
   ]
  },
  {
   "cell_type": "code",
   "execution_count": 120,
   "metadata": {},
   "outputs": [
    {
     "name": "stdout",
     "output_type": "stream",
     "text": [
      "Wall time: 2.6 s\n"
     ]
    }
   ],
   "source": [
    "%time df = pd.read_csv('Household_Dataset_2008_2010.csv', infer_datetime_format = True, parse_dates=['datetime'])"
   ]
  },
  {
   "cell_type": "code",
   "execution_count": 121,
   "metadata": {},
   "outputs": [
    {
     "data": {
      "text/html": [
       "<div>\n",
       "<style scoped>\n",
       "    .dataframe tbody tr th:only-of-type {\n",
       "        vertical-align: middle;\n",
       "    }\n",
       "\n",
       "    .dataframe tbody tr th {\n",
       "        vertical-align: top;\n",
       "    }\n",
       "\n",
       "    .dataframe thead th {\n",
       "        text-align: right;\n",
       "    }\n",
       "</style>\n",
       "<table border=\"1\" class=\"dataframe\">\n",
       "  <thead>\n",
       "    <tr style=\"text-align: right;\">\n",
       "      <th></th>\n",
       "      <th>datetime</th>\n",
       "      <th>Global_active_power</th>\n",
       "      <th>Global_reactive_power</th>\n",
       "      <th>Voltage</th>\n",
       "      <th>Global_intensity</th>\n",
       "      <th>Sub_metering_1</th>\n",
       "      <th>Sub_metering_2</th>\n",
       "      <th>Sub_metering_3</th>\n",
       "    </tr>\n",
       "  </thead>\n",
       "  <tbody>\n",
       "    <tr>\n",
       "      <th>0</th>\n",
       "      <td>2008-01-01 00:00:00</td>\n",
       "      <td>1.620</td>\n",
       "      <td>0.070</td>\n",
       "      <td>241.25</td>\n",
       "      <td>6.6</td>\n",
       "      <td>0.0</td>\n",
       "      <td>0.0</td>\n",
       "      <td>18.0</td>\n",
       "    </tr>\n",
       "    <tr>\n",
       "      <th>1</th>\n",
       "      <td>2008-01-01 00:01:00</td>\n",
       "      <td>1.626</td>\n",
       "      <td>0.072</td>\n",
       "      <td>241.74</td>\n",
       "      <td>6.6</td>\n",
       "      <td>0.0</td>\n",
       "      <td>0.0</td>\n",
       "      <td>18.0</td>\n",
       "    </tr>\n",
       "    <tr>\n",
       "      <th>2</th>\n",
       "      <td>2008-01-01 00:02:00</td>\n",
       "      <td>1.622</td>\n",
       "      <td>0.072</td>\n",
       "      <td>241.52</td>\n",
       "      <td>6.6</td>\n",
       "      <td>0.0</td>\n",
       "      <td>0.0</td>\n",
       "      <td>18.0</td>\n",
       "    </tr>\n",
       "    <tr>\n",
       "      <th>3</th>\n",
       "      <td>2008-01-01 00:03:00</td>\n",
       "      <td>1.612</td>\n",
       "      <td>0.070</td>\n",
       "      <td>240.82</td>\n",
       "      <td>6.6</td>\n",
       "      <td>0.0</td>\n",
       "      <td>0.0</td>\n",
       "      <td>18.0</td>\n",
       "    </tr>\n",
       "    <tr>\n",
       "      <th>4</th>\n",
       "      <td>2008-01-01 00:04:00</td>\n",
       "      <td>1.612</td>\n",
       "      <td>0.070</td>\n",
       "      <td>240.80</td>\n",
       "      <td>6.6</td>\n",
       "      <td>0.0</td>\n",
       "      <td>0.0</td>\n",
       "      <td>18.0</td>\n",
       "    </tr>\n",
       "  </tbody>\n",
       "</table>\n",
       "</div>"
      ],
      "text/plain": [
       "             datetime  Global_active_power  Global_reactive_power  Voltage  \\\n",
       "0 2008-01-01 00:00:00                1.620                  0.070   241.25   \n",
       "1 2008-01-01 00:01:00                1.626                  0.072   241.74   \n",
       "2 2008-01-01 00:02:00                1.622                  0.072   241.52   \n",
       "3 2008-01-01 00:03:00                1.612                  0.070   240.82   \n",
       "4 2008-01-01 00:04:00                1.612                  0.070   240.80   \n",
       "\n",
       "   Global_intensity  Sub_metering_1  Sub_metering_2  Sub_metering_3  \n",
       "0               6.6             0.0             0.0            18.0  \n",
       "1               6.6             0.0             0.0            18.0  \n",
       "2               6.6             0.0             0.0            18.0  \n",
       "3               6.6             0.0             0.0            18.0  \n",
       "4               6.6             0.0             0.0            18.0  "
      ]
     },
     "execution_count": 121,
     "metadata": {},
     "output_type": "execute_result"
    }
   ],
   "source": [
    "df.head()"
   ]
  },
  {
   "cell_type": "code",
   "execution_count": 122,
   "metadata": {},
   "outputs": [
    {
     "data": {
      "text/plain": [
       "datetime                 datetime64[ns]\n",
       "Global_active_power             float64\n",
       "Global_reactive_power           float64\n",
       "Voltage                         float64\n",
       "Global_intensity                float64\n",
       "Sub_metering_1                  float64\n",
       "Sub_metering_2                  float64\n",
       "Sub_metering_3                  float64\n",
       "dtype: object"
      ]
     },
     "execution_count": 122,
     "metadata": {},
     "output_type": "execute_result"
    }
   ],
   "source": [
    "df.dtypes"
   ]
  },
  {
   "cell_type": "markdown",
   "metadata": {},
   "source": [
    "#### Now the data types of data inferred by pandas look in sync"
   ]
  }
 ],
 "metadata": {
  "kernelspec": {
   "display_name": "Python 3",
   "language": "python",
   "name": "python3"
  },
  "language_info": {
   "codemirror_mode": {
    "name": "ipython",
    "version": 3
   },
   "file_extension": ".py",
   "mimetype": "text/x-python",
   "name": "python",
   "nbconvert_exporter": "python",
   "pygments_lexer": "ipython3",
   "version": "3.6.5"
  }
 },
 "nbformat": 4,
 "nbformat_minor": 2
}
